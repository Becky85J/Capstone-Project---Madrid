{
 "cells": [
  {
   "cell_type": "markdown",
   "metadata": {},
   "source": [
    "# Capstone Project - The Battle of Neighborhoods (Week 1)"
   ]
  },
  {
   "cell_type": "markdown",
   "metadata": {},
   "source": [
    "## Moving to Madrid"
   ]
  },
  {
   "cell_type": "markdown",
   "metadata": {},
   "source": [
    "First, we build the code to scrape the following Wikipedia page, https://es.wikipedia.org/wiki/Anexo:Barrios_administrativos_de_Madrid, in order to obtain the data that is in the table and to transform the data into a pandas dataframe."
   ]
  },
  {
   "cell_type": "markdown",
   "metadata": {},
   "source": [
    "#### First, we import the libraries we expect to need:"
   ]
  },
  {
   "cell_type": "code",
   "execution_count": 3,
   "metadata": {},
   "outputs": [
    {
     "name": "stdout",
     "output_type": "stream",
     "text": [
      "Collecting beautifulsoup4\n",
      "\u001b[?25l  Downloading https://files.pythonhosted.org/packages/e8/b5/7bb03a696f2c9b7af792a8f51b82974e51c268f15e925fc834876a4efa0b/beautifulsoup4-4.9.0-py3-none-any.whl (109kB)\n",
      "\u001b[K     |████████████████████████████████| 112kB 7.3MB/s eta 0:00:01\n",
      "\u001b[?25hCollecting soupsieve>1.2 (from beautifulsoup4)\n",
      "  Downloading https://files.pythonhosted.org/packages/05/cf/ea245e52f55823f19992447b008bcbb7f78efc5960d77f6c34b5b45b36dd/soupsieve-2.0-py2.py3-none-any.whl\n",
      "Installing collected packages: soupsieve, beautifulsoup4\n",
      "Successfully installed beautifulsoup4-4.9.0 soupsieve-2.0\n",
      "Note: you may need to restart the kernel to use updated packages.\n"
     ]
    }
   ],
   "source": [
    "pip install beautifulsoup4"
   ]
  },
  {
   "cell_type": "code",
   "execution_count": 4,
   "metadata": {},
   "outputs": [
    {
     "name": "stdout",
     "output_type": "stream",
     "text": [
      "Collecting lxml\n",
      "\u001b[?25l  Downloading https://files.pythonhosted.org/packages/dd/ba/a0e6866057fc0bbd17192925c1d63a3b85cf522965de9bc02364d08e5b84/lxml-4.5.0-cp36-cp36m-manylinux1_x86_64.whl (5.8MB)\n",
      "\u001b[K     |████████████████████████████████| 5.8MB 5.1MB/s eta 0:00:01     |████                            | 706kB 5.1MB/s eta 0:00:01\n",
      "\u001b[?25hInstalling collected packages: lxml\n",
      "Successfully installed lxml-4.5.0\n",
      "Note: you may need to restart the kernel to use updated packages.\n"
     ]
    }
   ],
   "source": [
    "pip install lxml"
   ]
  },
  {
   "cell_type": "code",
   "execution_count": 1,
   "metadata": {},
   "outputs": [],
   "source": [
    "import csv\n",
    "import os\n",
    "import requests\n",
    "import urllib\n",
    "import math\n",
    "import copy\n",
    "import pandas as pd\t\n",
    "import numpy as np\n",
    "from bs4 import BeautifulSoup \n",
    "\n",
    "class html_tables(object):\n",
    "    \n",
    "    def __init__(self, url):\n",
    "        \n",
    "        self.url      = url\n",
    "        self.r        = requests.get(self.url)\n",
    "        self.url_soup = BeautifulSoup(self.r.text)\n",
    "        \n",
    "    def read(self):\n",
    "        \n",
    "        self.tables      = []\n",
    "        self.tables_html = self.url_soup.find_all(\"table\")\n",
    "        \n",
    "        # Parse each table\n",
    "        for n in range(0, len(self.tables_html)):\n",
    "            \n",
    "            n_cols = 0\n",
    "            n_rows = 0\n",
    "            \n",
    "            for row in self.tables_html[n].find_all(\"tr\"):\n",
    "                col_tags = row.find_all([\"td\", \"th\"])\n",
    "                if len(col_tags) > 0:\n",
    "                    n_rows += 1\n",
    "                    if len(col_tags) > n_cols:\n",
    "                        n_cols = len(col_tags)\n",
    "            \n",
    "            # Create dataframe\n",
    "            df = pd.DataFrame(index = range(0, n_rows), columns = range(0, n_cols))\n",
    "            \n",
    "            # Create list to store rowspan values \n",
    "            skip_index = [0 for i in range(0, n_cols)]\n",
    "            \n",
    "            # Start by iterating over each row in this table...\n",
    "            row_counter = 0\n",
    "            for row in self.tables_html[n].find_all(\"tr\"):\n",
    "                \n",
    "                # Skip row if it's blank\n",
    "                if len(row.find_all([\"td\", \"th\"])) == 0:\n",
    "                    next\n",
    "                \n",
    "                else:\n",
    "                    \n",
    "                    # Get all cells containing data in this row\n",
    "                    columns = row.find_all([\"td\", \"th\"])\n",
    "                    col_dim = []\n",
    "                    row_dim = []\n",
    "                    col_dim_counter = -1\n",
    "                    row_dim_counter = -1\n",
    "                    col_counter = -1\n",
    "                    this_skip_index = copy.deepcopy(skip_index)\n",
    "                    \n",
    "                    for col in columns:\n",
    "                        \n",
    "                        # Determine cell dimensions\n",
    "                        colspan = col.get(\"colspan\")\n",
    "                        if colspan is None:\n",
    "                            col_dim.append(1)\n",
    "                        else:\n",
    "                            col_dim.append(int(colspan))\n",
    "                        col_dim_counter += 1\n",
    "                            \n",
    "                        rowspan = col.get(\"rowspan\")\n",
    "                        if rowspan is None:\n",
    "                            row_dim.append(1)\n",
    "                        else:\n",
    "                            row_dim.append(int(rowspan))\n",
    "                        row_dim_counter += 1\n",
    "                            \n",
    "                        # Adjust column counter\n",
    "                        if col_counter == -1:\n",
    "                            col_counter = 0  \n",
    "                        else:\n",
    "                            col_counter = col_counter + col_dim[col_dim_counter - 1]\n",
    "                            \n",
    "                        while skip_index[col_counter] > 0:\n",
    "                            col_counter += 1\n",
    "\n",
    "                        # Get cell contents  \n",
    "                        cell_data = col.get_text()\n",
    "                        \n",
    "                        # Insert data into cell\n",
    "                        df.iat[row_counter, col_counter] = cell_data\n",
    "\n",
    "                        # Record column skipping index\n",
    "                        if row_dim[row_dim_counter] > 1:\n",
    "                            this_skip_index[col_counter] = row_dim[row_dim_counter]\n",
    "                \n",
    "                # Adjust row counter \n",
    "                row_counter += 1\n",
    "                \n",
    "                # Adjust column skipping index\n",
    "                skip_index = [i - 1 if i > 0 else i for i in this_skip_index]\n",
    "\n",
    "            # Append dataframe to list of tables\n",
    "            self.tables.append(df)\n",
    "        \n",
    "        return(self.tables)"
   ]
  },
  {
   "cell_type": "markdown",
   "metadata": {},
   "source": [
    "#### Then, we download the data from Wikipedia "
   ]
  },
  {
   "cell_type": "code",
   "execution_count": 2,
   "metadata": {},
   "outputs": [],
   "source": [
    "ssa_url = \"https://es.wikipedia.org/wiki/Anexo:Barrios_administrativos_de_Madrid\"\n",
    "ssa = html_tables(ssa_url)\n",
    "first_table = ssa.read()[0]\n",
    "first_table.to_csv(\"ssa.csv\", header = False, index = False)"
   ]
  },
  {
   "cell_type": "code",
   "execution_count": 3,
   "metadata": {},
   "outputs": [
    {
     "data": {
      "text/html": [
       "<div>\n",
       "<style scoped>\n",
       "    .dataframe tbody tr th:only-of-type {\n",
       "        vertical-align: middle;\n",
       "    }\n",
       "\n",
       "    .dataframe tbody tr th {\n",
       "        vertical-align: top;\n",
       "    }\n",
       "\n",
       "    .dataframe thead th {\n",
       "        text-align: right;\n",
       "    }\n",
       "</style>\n",
       "<table border=\"1\" class=\"dataframe\">\n",
       "  <thead>\n",
       "    <tr style=\"text-align: right;\">\n",
       "      <th></th>\n",
       "      <th>0</th>\n",
       "      <th>1</th>\n",
       "      <th>2</th>\n",
       "      <th>3</th>\n",
       "      <th>4</th>\n",
       "    </tr>\n",
       "  </thead>\n",
       "  <tbody>\n",
       "    <tr>\n",
       "      <th>0</th>\n",
       "      <td>Distrito\\n</td>\n",
       "      <td>Número\\n</td>\n",
       "      <td>Nombre\\n</td>\n",
       "      <td>Superficie (km²)[2]​\\n</td>\n",
       "      <td>Imagen\\n</td>\n",
       "    </tr>\n",
       "    <tr>\n",
       "      <th>1</th>\n",
       "      <td>Centro\\n</td>\n",
       "      <td>11\\n</td>\n",
       "      <td>Palacio\\n</td>\n",
       "      <td>1,471 km²\\n</td>\n",
       "      <td>\\n</td>\n",
       "    </tr>\n",
       "    <tr>\n",
       "      <th>2</th>\n",
       "      <td>NaN</td>\n",
       "      <td>12\\n</td>\n",
       "      <td>Embajadores\\n</td>\n",
       "      <td>1,032 km²\\n</td>\n",
       "      <td>\\n</td>\n",
       "    </tr>\n",
       "    <tr>\n",
       "      <th>3</th>\n",
       "      <td>NaN</td>\n",
       "      <td>13\\n</td>\n",
       "      <td>Cortes\\n</td>\n",
       "      <td>0,592 km²\\n</td>\n",
       "      <td>\\n</td>\n",
       "    </tr>\n",
       "    <tr>\n",
       "      <th>4</th>\n",
       "      <td>NaN</td>\n",
       "      <td>14\\n</td>\n",
       "      <td>Justicia\\n</td>\n",
       "      <td>0,742 km²\\n</td>\n",
       "      <td>\\n</td>\n",
       "    </tr>\n",
       "  </tbody>\n",
       "</table>\n",
       "</div>"
      ],
      "text/plain": [
       "            0         1              2                       3         4\n",
       "0  Distrito\\n  Número\\n       Nombre\\n  Superficie (km²)[2]​\\n  Imagen\\n\n",
       "1    Centro\\n      11\\n      Palacio\\n             1,471 km²\\n        \\n\n",
       "2         NaN      12\\n  Embajadores\\n             1,032 km²\\n        \\n\n",
       "3         NaN      13\\n       Cortes\\n             0,592 km²\\n        \\n\n",
       "4         NaN      14\\n     Justicia\\n             0,742 km²\\n        \\n"
      ]
     },
     "execution_count": 3,
     "metadata": {},
     "output_type": "execute_result"
    }
   ],
   "source": [
    "first_table.head()"
   ]
  },
  {
   "cell_type": "code",
   "execution_count": 4,
   "metadata": {},
   "outputs": [],
   "source": [
    "pd.set_option('display.max_columns', None)\n",
    "pd.set_option('display.max_rows', None)"
   ]
  },
  {
   "cell_type": "code",
   "execution_count": 5,
   "metadata": {},
   "outputs": [],
   "source": [
    "neighborhoods_Madrid=pd.read_csv('ssa.csv') "
   ]
  },
  {
   "cell_type": "code",
   "execution_count": 6,
   "metadata": {},
   "outputs": [
    {
     "data": {
      "text/html": [
       "<div>\n",
       "<style scoped>\n",
       "    .dataframe tbody tr th:only-of-type {\n",
       "        vertical-align: middle;\n",
       "    }\n",
       "\n",
       "    .dataframe tbody tr th {\n",
       "        vertical-align: top;\n",
       "    }\n",
       "\n",
       "    .dataframe thead th {\n",
       "        text-align: right;\n",
       "    }\n",
       "</style>\n",
       "<table border=\"1\" class=\"dataframe\">\n",
       "  <thead>\n",
       "    <tr style=\"text-align: right;\">\n",
       "      <th></th>\n",
       "      <th>Distrito\\n</th>\n",
       "      <th>Número\\n</th>\n",
       "      <th>Nombre\\n</th>\n",
       "      <th>Superficie (km²)[2]​\\n</th>\n",
       "      <th>Imagen\\n</th>\n",
       "    </tr>\n",
       "  </thead>\n",
       "  <tbody>\n",
       "    <tr>\n",
       "      <th>0</th>\n",
       "      <td>Centro\\n</td>\n",
       "      <td>11</td>\n",
       "      <td>Palacio\\n</td>\n",
       "      <td>1,471 km²\\n</td>\n",
       "      <td>\\n</td>\n",
       "    </tr>\n",
       "    <tr>\n",
       "      <th>1</th>\n",
       "      <td>NaN</td>\n",
       "      <td>12</td>\n",
       "      <td>Embajadores\\n</td>\n",
       "      <td>1,032 km²\\n</td>\n",
       "      <td>\\n</td>\n",
       "    </tr>\n",
       "    <tr>\n",
       "      <th>2</th>\n",
       "      <td>NaN</td>\n",
       "      <td>13</td>\n",
       "      <td>Cortes\\n</td>\n",
       "      <td>0,592 km²\\n</td>\n",
       "      <td>\\n</td>\n",
       "    </tr>\n",
       "    <tr>\n",
       "      <th>3</th>\n",
       "      <td>NaN</td>\n",
       "      <td>14</td>\n",
       "      <td>Justicia\\n</td>\n",
       "      <td>0,742 km²\\n</td>\n",
       "      <td>\\n</td>\n",
       "    </tr>\n",
       "    <tr>\n",
       "      <th>4</th>\n",
       "      <td>NaN</td>\n",
       "      <td>15</td>\n",
       "      <td>Universidad\\n</td>\n",
       "      <td>0,947 km²\\n</td>\n",
       "      <td>\\n</td>\n",
       "    </tr>\n",
       "  </tbody>\n",
       "</table>\n",
       "</div>"
      ],
      "text/plain": [
       "  Distrito\\n  Número\\n       Nombre\\n Superficie (km²)[2]​\\n Imagen\\n\n",
       "0   Centro\\n        11      Palacio\\n            1,471 km²\\n       \\n\n",
       "1        NaN        12  Embajadores\\n            1,032 km²\\n       \\n\n",
       "2        NaN        13       Cortes\\n            0,592 km²\\n       \\n\n",
       "3        NaN        14     Justicia\\n            0,742 km²\\n       \\n\n",
       "4        NaN        15  Universidad\\n            0,947 km²\\n       \\n"
      ]
     },
     "execution_count": 6,
     "metadata": {},
     "output_type": "execute_result"
    }
   ],
   "source": [
    "neighborhoods_Madrid.head()"
   ]
  },
  {
   "cell_type": "markdown",
   "metadata": {},
   "source": [
    " "
   ]
  },
  {
   "cell_type": "markdown",
   "metadata": {},
   "source": [
    "We can drop the unneeded columns"
   ]
  },
  {
   "cell_type": "code",
   "execution_count": 7,
   "metadata": {},
   "outputs": [
    {
     "data": {
      "text/html": [
       "<div>\n",
       "<style scoped>\n",
       "    .dataframe tbody tr th:only-of-type {\n",
       "        vertical-align: middle;\n",
       "    }\n",
       "\n",
       "    .dataframe tbody tr th {\n",
       "        vertical-align: top;\n",
       "    }\n",
       "\n",
       "    .dataframe thead th {\n",
       "        text-align: right;\n",
       "    }\n",
       "</style>\n",
       "<table border=\"1\" class=\"dataframe\">\n",
       "  <thead>\n",
       "    <tr style=\"text-align: right;\">\n",
       "      <th></th>\n",
       "      <th>Distrito\\n</th>\n",
       "      <th>Nombre\\n</th>\n",
       "    </tr>\n",
       "  </thead>\n",
       "  <tbody>\n",
       "    <tr>\n",
       "      <th>0</th>\n",
       "      <td>Centro\\n</td>\n",
       "      <td>Palacio\\n</td>\n",
       "    </tr>\n",
       "    <tr>\n",
       "      <th>1</th>\n",
       "      <td>NaN</td>\n",
       "      <td>Embajadores\\n</td>\n",
       "    </tr>\n",
       "    <tr>\n",
       "      <th>2</th>\n",
       "      <td>NaN</td>\n",
       "      <td>Cortes\\n</td>\n",
       "    </tr>\n",
       "    <tr>\n",
       "      <th>3</th>\n",
       "      <td>NaN</td>\n",
       "      <td>Justicia\\n</td>\n",
       "    </tr>\n",
       "    <tr>\n",
       "      <th>4</th>\n",
       "      <td>NaN</td>\n",
       "      <td>Universidad\\n</td>\n",
       "    </tr>\n",
       "  </tbody>\n",
       "</table>\n",
       "</div>"
      ],
      "text/plain": [
       "  Distrito\\n       Nombre\\n\n",
       "0   Centro\\n      Palacio\\n\n",
       "1        NaN  Embajadores\\n\n",
       "2        NaN       Cortes\\n\n",
       "3        NaN     Justicia\\n\n",
       "4        NaN  Universidad\\n"
      ]
     },
     "execution_count": 7,
     "metadata": {},
     "output_type": "execute_result"
    }
   ],
   "source": [
    "del neighborhoods_Madrid['Número\\n']\n",
    "del neighborhoods_Madrid['Superficie (km²)[2]​\\n']\n",
    "del neighborhoods_Madrid['Imagen\\n']\n",
    "neighborhoods_Madrid.head()"
   ]
  },
  {
   "cell_type": "code",
   "execution_count": 8,
   "metadata": {},
   "outputs": [],
   "source": [
    "neighborhoods_Madrid2 = neighborhoods_Madrid"
   ]
  },
  {
   "cell_type": "markdown",
   "metadata": {},
   "source": [
    "We change the columns names:"
   ]
  },
  {
   "cell_type": "code",
   "execution_count": 13,
   "metadata": {},
   "outputs": [],
   "source": [
    "neighborhoods_Madrid = neighborhoods_Madrid.rename(columns={'Distrito\\n':'Borough', 'Nombre\\n':'Neighborhood'}, \n",
    "                 inplace=True)"
   ]
  },
  {
   "cell_type": "code",
   "execution_count": 15,
   "metadata": {},
   "outputs": [
    {
     "data": {
      "text/html": [
       "<div>\n",
       "<style scoped>\n",
       "    .dataframe tbody tr th:only-of-type {\n",
       "        vertical-align: middle;\n",
       "    }\n",
       "\n",
       "    .dataframe tbody tr th {\n",
       "        vertical-align: top;\n",
       "    }\n",
       "\n",
       "    .dataframe thead th {\n",
       "        text-align: right;\n",
       "    }\n",
       "</style>\n",
       "<table border=\"1\" class=\"dataframe\">\n",
       "  <thead>\n",
       "    <tr style=\"text-align: right;\">\n",
       "      <th></th>\n",
       "      <th>Borough</th>\n",
       "      <th>Neighborhood</th>\n",
       "    </tr>\n",
       "  </thead>\n",
       "  <tbody>\n",
       "    <tr>\n",
       "      <th>0</th>\n",
       "      <td>Centro\\n</td>\n",
       "      <td>Palacio\\n</td>\n",
       "    </tr>\n",
       "    <tr>\n",
       "      <th>1</th>\n",
       "      <td>NaN</td>\n",
       "      <td>Embajadores\\n</td>\n",
       "    </tr>\n",
       "    <tr>\n",
       "      <th>2</th>\n",
       "      <td>NaN</td>\n",
       "      <td>Cortes\\n</td>\n",
       "    </tr>\n",
       "    <tr>\n",
       "      <th>3</th>\n",
       "      <td>NaN</td>\n",
       "      <td>Justicia\\n</td>\n",
       "    </tr>\n",
       "    <tr>\n",
       "      <th>4</th>\n",
       "      <td>NaN</td>\n",
       "      <td>Universidad\\n</td>\n",
       "    </tr>\n",
       "  </tbody>\n",
       "</table>\n",
       "</div>"
      ],
      "text/plain": [
       "    Borough   Neighborhood\n",
       "0  Centro\\n      Palacio\\n\n",
       "1       NaN  Embajadores\\n\n",
       "2       NaN       Cortes\\n\n",
       "3       NaN     Justicia\\n\n",
       "4       NaN  Universidad\\n"
      ]
     },
     "execution_count": 15,
     "metadata": {},
     "output_type": "execute_result"
    }
   ],
   "source": [
    "neighborhoods_Madrid.head()"
   ]
  },
  {
   "cell_type": "markdown",
   "metadata": {},
   "source": [
    "We need to remove the \"\\n\":"
   ]
  },
  {
   "cell_type": "code",
   "execution_count": 16,
   "metadata": {},
   "outputs": [
    {
     "data": {
      "text/html": [
       "<div>\n",
       "<style scoped>\n",
       "    .dataframe tbody tr th:only-of-type {\n",
       "        vertical-align: middle;\n",
       "    }\n",
       "\n",
       "    .dataframe tbody tr th {\n",
       "        vertical-align: top;\n",
       "    }\n",
       "\n",
       "    .dataframe thead th {\n",
       "        text-align: right;\n",
       "    }\n",
       "</style>\n",
       "<table border=\"1\" class=\"dataframe\">\n",
       "  <thead>\n",
       "    <tr style=\"text-align: right;\">\n",
       "      <th></th>\n",
       "      <th>Borough</th>\n",
       "      <th>Neighborhood</th>\n",
       "    </tr>\n",
       "  </thead>\n",
       "  <tbody>\n",
       "    <tr>\n",
       "      <th>0</th>\n",
       "      <td>Centro</td>\n",
       "      <td>Palacio</td>\n",
       "    </tr>\n",
       "    <tr>\n",
       "      <th>1</th>\n",
       "      <td>NaN</td>\n",
       "      <td>Embajadores</td>\n",
       "    </tr>\n",
       "    <tr>\n",
       "      <th>2</th>\n",
       "      <td>NaN</td>\n",
       "      <td>Cortes</td>\n",
       "    </tr>\n",
       "    <tr>\n",
       "      <th>3</th>\n",
       "      <td>NaN</td>\n",
       "      <td>Justicia</td>\n",
       "    </tr>\n",
       "    <tr>\n",
       "      <th>4</th>\n",
       "      <td>NaN</td>\n",
       "      <td>Universidad</td>\n",
       "    </tr>\n",
       "  </tbody>\n",
       "</table>\n",
       "</div>"
      ],
      "text/plain": [
       "  Borough Neighborhood\n",
       "0  Centro      Palacio\n",
       "1     NaN  Embajadores\n",
       "2     NaN       Cortes\n",
       "3     NaN     Justicia\n",
       "4     NaN  Universidad"
      ]
     },
     "execution_count": 16,
     "metadata": {},
     "output_type": "execute_result"
    }
   ],
   "source": [
    "neighborhoods_Madrid = neighborhoods_Madrid.replace(to_replace=[r\"\\\\t|\\\\n|\\\\r\", \"\\t|\\n|\\r\"], value=[\"\",\"\"], regex=True, inplace=False)\n",
    "neighborhoods_Madrid.head()"
   ]
  },
  {
   "cell_type": "markdown",
   "metadata": {},
   "source": [
    "On the Wikipedia page Boroughs were merged cells, that is why we have NaN values on Borough column. We should replace these values with the Borough above it. "
   ]
  },
  {
   "cell_type": "code",
   "execution_count": 17,
   "metadata": {},
   "outputs": [],
   "source": [
    "neighborhoods_Madrid3 = neighborhoods_Madrid"
   ]
  },
  {
   "cell_type": "code",
   "execution_count": 18,
   "metadata": {},
   "outputs": [
    {
     "data": {
      "text/html": [
       "<div>\n",
       "<style scoped>\n",
       "    .dataframe tbody tr th:only-of-type {\n",
       "        vertical-align: middle;\n",
       "    }\n",
       "\n",
       "    .dataframe tbody tr th {\n",
       "        vertical-align: top;\n",
       "    }\n",
       "\n",
       "    .dataframe thead th {\n",
       "        text-align: right;\n",
       "    }\n",
       "</style>\n",
       "<table border=\"1\" class=\"dataframe\">\n",
       "  <thead>\n",
       "    <tr style=\"text-align: right;\">\n",
       "      <th></th>\n",
       "      <th>Borough</th>\n",
       "      <th>Neighborhood</th>\n",
       "    </tr>\n",
       "  </thead>\n",
       "  <tbody>\n",
       "    <tr>\n",
       "      <th>0</th>\n",
       "      <td>Centro</td>\n",
       "      <td>Palacio</td>\n",
       "    </tr>\n",
       "    <tr>\n",
       "      <th>1</th>\n",
       "      <td>Centro</td>\n",
       "      <td>Embajadores</td>\n",
       "    </tr>\n",
       "    <tr>\n",
       "      <th>2</th>\n",
       "      <td>Centro</td>\n",
       "      <td>Cortes</td>\n",
       "    </tr>\n",
       "    <tr>\n",
       "      <th>3</th>\n",
       "      <td>Centro</td>\n",
       "      <td>Justicia</td>\n",
       "    </tr>\n",
       "    <tr>\n",
       "      <th>4</th>\n",
       "      <td>Centro</td>\n",
       "      <td>Universidad</td>\n",
       "    </tr>\n",
       "  </tbody>\n",
       "</table>\n",
       "</div>"
      ],
      "text/plain": [
       "  Borough Neighborhood\n",
       "0  Centro      Palacio\n",
       "1  Centro  Embajadores\n",
       "2  Centro       Cortes\n",
       "3  Centro     Justicia\n",
       "4  Centro  Universidad"
      ]
     },
     "execution_count": 18,
     "metadata": {},
     "output_type": "execute_result"
    }
   ],
   "source": [
    "neighborhoods_Madrid3 = neighborhoods_Madrid3.fillna(method='ffill')\n",
    "neighborhoods_Madrid3.head()"
   ]
  },
  {
   "cell_type": "code",
   "execution_count": 19,
   "metadata": {},
   "outputs": [
    {
     "data": {
      "text/html": [
       "<div>\n",
       "<style scoped>\n",
       "    .dataframe tbody tr th:only-of-type {\n",
       "        vertical-align: middle;\n",
       "    }\n",
       "\n",
       "    .dataframe tbody tr th {\n",
       "        vertical-align: top;\n",
       "    }\n",
       "\n",
       "    .dataframe thead th {\n",
       "        text-align: right;\n",
       "    }\n",
       "</style>\n",
       "<table border=\"1\" class=\"dataframe\">\n",
       "  <thead>\n",
       "    <tr style=\"text-align: right;\">\n",
       "      <th></th>\n",
       "      <th>Borough</th>\n",
       "      <th>Neighborhood</th>\n",
       "    </tr>\n",
       "  </thead>\n",
       "  <tbody>\n",
       "    <tr>\n",
       "      <th>126</th>\n",
       "      <td>Barajas</td>\n",
       "      <td>Alameda de Osuna</td>\n",
       "    </tr>\n",
       "    <tr>\n",
       "      <th>127</th>\n",
       "      <td>Barajas</td>\n",
       "      <td>Aeropuerto</td>\n",
       "    </tr>\n",
       "    <tr>\n",
       "      <th>128</th>\n",
       "      <td>Barajas</td>\n",
       "      <td>Casco Histórico de Barajas</td>\n",
       "    </tr>\n",
       "    <tr>\n",
       "      <th>129</th>\n",
       "      <td>Barajas</td>\n",
       "      <td>Timón</td>\n",
       "    </tr>\n",
       "    <tr>\n",
       "      <th>130</th>\n",
       "      <td>Barajas</td>\n",
       "      <td>Corralejos</td>\n",
       "    </tr>\n",
       "  </tbody>\n",
       "</table>\n",
       "</div>"
      ],
      "text/plain": [
       "     Borough                Neighborhood\n",
       "126  Barajas            Alameda de Osuna\n",
       "127  Barajas                  Aeropuerto\n",
       "128  Barajas  Casco Histórico de Barajas\n",
       "129  Barajas                       Timón\n",
       "130  Barajas                  Corralejos"
      ]
     },
     "execution_count": 19,
     "metadata": {},
     "output_type": "execute_result"
    }
   ],
   "source": [
    "neighborhoods_Madrid3.tail()"
   ]
  },
  {
   "cell_type": "markdown",
   "metadata": {},
   "source": [
    "Finally, we save this data to a CSV file."
   ]
  },
  {
   "cell_type": "code",
   "execution_count": 20,
   "metadata": {},
   "outputs": [],
   "source": [
    "neighborhoods_Madrid3.to_csv('ssa.csv')"
   ]
  }
 ],
 "metadata": {
  "kernelspec": {
   "display_name": "Python",
   "language": "python",
   "name": "conda-env-python-py"
  },
  "language_info": {
   "codemirror_mode": {
    "name": "ipython",
    "version": 3
   },
   "file_extension": ".py",
   "mimetype": "text/x-python",
   "name": "python",
   "nbconvert_exporter": "python",
   "pygments_lexer": "ipython3",
   "version": "3.6.10"
  }
 },
 "nbformat": 4,
 "nbformat_minor": 4
}
