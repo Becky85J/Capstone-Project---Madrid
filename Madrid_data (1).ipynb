{
 "cells": [
  {
   "cell_type": "markdown",
   "metadata": {},
   "source": [
    "# Capstone Project - The Battle of Neighborhoods (Week 1)"
   ]
  },
  {
   "cell_type": "markdown",
   "metadata": {},
   "source": [
    "## Moving to Madrid"
   ]
  },
  {
   "cell_type": "markdown",
   "metadata": {},
   "source": [
    "First, we build the code to scrape the following Wikipedia page, https://es.wikipedia.org/wiki/Anexo:Barrios_administrativos_de_Madrid, in order to obtain the data that is in the table and to transform the data into a pandas dataframe."
   ]
  },
  {
   "cell_type": "markdown",
   "metadata": {},
   "source": [
    "#### First, we import the libraries we expect to need:"
   ]
  },
  {
   "cell_type": "code",
   "execution_count": 3,
   "metadata": {},
   "outputs": [
    {
     "name": "stdout",
     "output_type": "stream",
     "text": [
      "Collecting beautifulsoup4\n",
      "\u001b[?25l  Downloading https://files.pythonhosted.org/packages/e8/b5/7bb03a696f2c9b7af792a8f51b82974e51c268f15e925fc834876a4efa0b/beautifulsoup4-4.9.0-py3-none-any.whl (109kB)\n",
      "\u001b[K     |████████████████████████████████| 112kB 7.3MB/s eta 0:00:01\n",
      "\u001b[?25hCollecting soupsieve>1.2 (from beautifulsoup4)\n",
      "  Downloading https://files.pythonhosted.org/packages/05/cf/ea245e52f55823f19992447b008bcbb7f78efc5960d77f6c34b5b45b36dd/soupsieve-2.0-py2.py3-none-any.whl\n",
      "Installing collected packages: soupsieve, beautifulsoup4\n",
      "Successfully installed beautifulsoup4-4.9.0 soupsieve-2.0\n",
      "Note: you may need to restart the kernel to use updated packages.\n"
     ]
    }
   ],
   "source": [
    "pip install beautifulsoup4"
   ]
  },
  {
   "cell_type": "code",
   "execution_count": 4,
   "metadata": {},
   "outputs": [
    {
     "name": "stdout",
     "output_type": "stream",
     "text": [
      "Collecting lxml\n",
      "\u001b[?25l  Downloading https://files.pythonhosted.org/packages/dd/ba/a0e6866057fc0bbd17192925c1d63a3b85cf522965de9bc02364d08e5b84/lxml-4.5.0-cp36-cp36m-manylinux1_x86_64.whl (5.8MB)\n",
      "\u001b[K     |████████████████████████████████| 5.8MB 5.1MB/s eta 0:00:01     |████                            | 706kB 5.1MB/s eta 0:00:01\n",
      "\u001b[?25hInstalling collected packages: lxml\n",
      "Successfully installed lxml-4.5.0\n",
      "Note: you may need to restart the kernel to use updated packages.\n"
     ]
    }
   ],
   "source": [
    "pip install lxml"
   ]
  },
  {
   "cell_type": "code",
   "execution_count": 14,
   "metadata": {},
   "outputs": [],
   "source": [
    "import csv\n",
    "import os\n",
    "import requests\n",
    "import urllib\n",
    "import math\n",
    "import copy\n",
    "import pandas as pd\t\n",
    "import numpy as np\n",
    "from bs4 import BeautifulSoup \n",
    "\n",
    "class html_tables(object):\n",
    "    \n",
    "    def __init__(self, url):\n",
    "        \n",
    "        self.url      = url\n",
    "        self.r        = requests.get(self.url)\n",
    "        self.url_soup = BeautifulSoup(self.r.text)\n",
    "        \n",
    "    def read(self):\n",
    "        \n",
    "        self.tables      = []\n",
    "        self.tables_html = self.url_soup.find_all(\"table\")\n",
    "        \n",
    "        # Parse each table\n",
    "        for n in range(0, len(self.tables_html)):\n",
    "            \n",
    "            n_cols = 0\n",
    "            n_rows = 0\n",
    "            \n",
    "            for row in self.tables_html[n].find_all(\"tr\"):\n",
    "                col_tags = row.find_all([\"td\", \"th\"])\n",
    "                if len(col_tags) > 0:\n",
    "                    n_rows += 1\n",
    "                    if len(col_tags) > n_cols:\n",
    "                        n_cols = len(col_tags)\n",
    "            \n",
    "            # Create dataframe\n",
    "            df = pd.DataFrame(index = range(0, n_rows), columns = range(0, n_cols))\n",
    "            \n",
    "            # Create list to store rowspan values \n",
    "            skip_index = [0 for i in range(0, n_cols)]\n",
    "            \n",
    "            # Start by iterating over each row in this table...\n",
    "            row_counter = 0\n",
    "            for row in self.tables_html[n].find_all(\"tr\"):\n",
    "                \n",
    "                # Skip row if it's blank\n",
    "                if len(row.find_all([\"td\", \"th\"])) == 0:\n",
    "                    next\n",
    "                \n",
    "                else:\n",
    "                    \n",
    "                    # Get all cells containing data in this row\n",
    "                    columns = row.find_all([\"td\", \"th\"])\n",
    "                    col_dim = []\n",
    "                    row_dim = []\n",
    "                    col_dim_counter = -1\n",
    "                    row_dim_counter = -1\n",
    "                    col_counter = -1\n",
    "                    this_skip_index = copy.deepcopy(skip_index)\n",
    "                    \n",
    "                    for col in columns:\n",
    "                        \n",
    "                        # Determine cell dimensions\n",
    "                        colspan = col.get(\"colspan\")\n",
    "                        if colspan is None:\n",
    "                            col_dim.append(1)\n",
    "                        else:\n",
    "                            col_dim.append(int(colspan))\n",
    "                        col_dim_counter += 1\n",
    "                            \n",
    "                        rowspan = col.get(\"rowspan\")\n",
    "                        if rowspan is None:\n",
    "                            row_dim.append(1)\n",
    "                        else:\n",
    "                            row_dim.append(int(rowspan))\n",
    "                        row_dim_counter += 1\n",
    "                            \n",
    "                        # Adjust column counter\n",
    "                        if col_counter == -1:\n",
    "                            col_counter = 0  \n",
    "                        else:\n",
    "                            col_counter = col_counter + col_dim[col_dim_counter - 1]\n",
    "                            \n",
    "                        while skip_index[col_counter] > 0:\n",
    "                            col_counter += 1\n",
    "\n",
    "                        # Get cell contents  \n",
    "                        cell_data = col.get_text()\n",
    "                        \n",
    "                        # Insert data into cell\n",
    "                        df.iat[row_counter, col_counter] = cell_data\n",
    "\n",
    "                        # Record column skipping index\n",
    "                        if row_dim[row_dim_counter] > 1:\n",
    "                            this_skip_index[col_counter] = row_dim[row_dim_counter]\n",
    "                \n",
    "                # Adjust row counter \n",
    "                row_counter += 1\n",
    "                \n",
    "                # Adjust column skipping index\n",
    "                skip_index = [i - 1 if i > 0 else i for i in this_skip_index]\n",
    "\n",
    "            # Append dataframe to list of tables\n",
    "            self.tables.append(df)\n",
    "        \n",
    "        return(self.tables)"
   ]
  },
  {
   "cell_type": "markdown",
   "metadata": {},
   "source": [
    "#### Then, we download the data from Wikipedia "
   ]
  },
  {
   "cell_type": "code",
   "execution_count": 2,
   "metadata": {},
   "outputs": [],
   "source": [
    "ssa_url = \"https://es.wikipedia.org/wiki/Anexo:Barrios_administrativos_de_Madrid\"\n",
    "ssa = html_tables(ssa_url)\n",
    "first_table = ssa.read()[0]\n",
    "first_table.to_csv(\"ssa.csv\", header = False, index = False)"
   ]
  },
  {
   "cell_type": "code",
   "execution_count": 3,
   "metadata": {},
   "outputs": [
    {
     "data": {
      "text/html": [
       "<div>\n",
       "<style scoped>\n",
       "    .dataframe tbody tr th:only-of-type {\n",
       "        vertical-align: middle;\n",
       "    }\n",
       "\n",
       "    .dataframe tbody tr th {\n",
       "        vertical-align: top;\n",
       "    }\n",
       "\n",
       "    .dataframe thead th {\n",
       "        text-align: right;\n",
       "    }\n",
       "</style>\n",
       "<table border=\"1\" class=\"dataframe\">\n",
       "  <thead>\n",
       "    <tr style=\"text-align: right;\">\n",
       "      <th></th>\n",
       "      <th>0</th>\n",
       "      <th>1</th>\n",
       "      <th>2</th>\n",
       "      <th>3</th>\n",
       "      <th>4</th>\n",
       "    </tr>\n",
       "  </thead>\n",
       "  <tbody>\n",
       "    <tr>\n",
       "      <th>0</th>\n",
       "      <td>Distrito\\n</td>\n",
       "      <td>Número\\n</td>\n",
       "      <td>Nombre\\n</td>\n",
       "      <td>Superficie (km²)[2]​\\n</td>\n",
       "      <td>Imagen\\n</td>\n",
       "    </tr>\n",
       "    <tr>\n",
       "      <th>1</th>\n",
       "      <td>Centro\\n</td>\n",
       "      <td>11\\n</td>\n",
       "      <td>Palacio\\n</td>\n",
       "      <td>1,471 km²\\n</td>\n",
       "      <td>\\n</td>\n",
       "    </tr>\n",
       "    <tr>\n",
       "      <th>2</th>\n",
       "      <td>NaN</td>\n",
       "      <td>12\\n</td>\n",
       "      <td>Embajadores\\n</td>\n",
       "      <td>1,032 km²\\n</td>\n",
       "      <td>\\n</td>\n",
       "    </tr>\n",
       "    <tr>\n",
       "      <th>3</th>\n",
       "      <td>NaN</td>\n",
       "      <td>13\\n</td>\n",
       "      <td>Cortes\\n</td>\n",
       "      <td>0,592 km²\\n</td>\n",
       "      <td>\\n</td>\n",
       "    </tr>\n",
       "    <tr>\n",
       "      <th>4</th>\n",
       "      <td>NaN</td>\n",
       "      <td>14\\n</td>\n",
       "      <td>Justicia\\n</td>\n",
       "      <td>0,742 km²\\n</td>\n",
       "      <td>\\n</td>\n",
       "    </tr>\n",
       "  </tbody>\n",
       "</table>\n",
       "</div>"
      ],
      "text/plain": [
       "            0         1              2                       3         4\n",
       "0  Distrito\\n  Número\\n       Nombre\\n  Superficie (km²)[2]​\\n  Imagen\\n\n",
       "1    Centro\\n      11\\n      Palacio\\n             1,471 km²\\n        \\n\n",
       "2         NaN      12\\n  Embajadores\\n             1,032 km²\\n        \\n\n",
       "3         NaN      13\\n       Cortes\\n             0,592 km²\\n        \\n\n",
       "4         NaN      14\\n     Justicia\\n             0,742 km²\\n        \\n"
      ]
     },
     "execution_count": 3,
     "metadata": {},
     "output_type": "execute_result"
    }
   ],
   "source": [
    "first_table.head()"
   ]
  },
  {
   "cell_type": "code",
   "execution_count": 4,
   "metadata": {},
   "outputs": [],
   "source": [
    "pd.set_option('display.max_columns', None)\n",
    "pd.set_option('display.max_rows', None)"
   ]
  },
  {
   "cell_type": "code",
   "execution_count": 5,
   "metadata": {},
   "outputs": [],
   "source": [
    "neighborhoods_Madrid=pd.read_csv('ssa.csv') "
   ]
  },
  {
   "cell_type": "code",
   "execution_count": 6,
   "metadata": {},
   "outputs": [
    {
     "data": {
      "text/html": [
       "<div>\n",
       "<style scoped>\n",
       "    .dataframe tbody tr th:only-of-type {\n",
       "        vertical-align: middle;\n",
       "    }\n",
       "\n",
       "    .dataframe tbody tr th {\n",
       "        vertical-align: top;\n",
       "    }\n",
       "\n",
       "    .dataframe thead th {\n",
       "        text-align: right;\n",
       "    }\n",
       "</style>\n",
       "<table border=\"1\" class=\"dataframe\">\n",
       "  <thead>\n",
       "    <tr style=\"text-align: right;\">\n",
       "      <th></th>\n",
       "      <th>Distrito\\n</th>\n",
       "      <th>Número\\n</th>\n",
       "      <th>Nombre\\n</th>\n",
       "      <th>Superficie (km²)[2]​\\n</th>\n",
       "      <th>Imagen\\n</th>\n",
       "    </tr>\n",
       "  </thead>\n",
       "  <tbody>\n",
       "    <tr>\n",
       "      <th>0</th>\n",
       "      <td>Centro\\n</td>\n",
       "      <td>11</td>\n",
       "      <td>Palacio\\n</td>\n",
       "      <td>1,471 km²\\n</td>\n",
       "      <td>\\n</td>\n",
       "    </tr>\n",
       "    <tr>\n",
       "      <th>1</th>\n",
       "      <td>NaN</td>\n",
       "      <td>12</td>\n",
       "      <td>Embajadores\\n</td>\n",
       "      <td>1,032 km²\\n</td>\n",
       "      <td>\\n</td>\n",
       "    </tr>\n",
       "    <tr>\n",
       "      <th>2</th>\n",
       "      <td>NaN</td>\n",
       "      <td>13</td>\n",
       "      <td>Cortes\\n</td>\n",
       "      <td>0,592 km²\\n</td>\n",
       "      <td>\\n</td>\n",
       "    </tr>\n",
       "    <tr>\n",
       "      <th>3</th>\n",
       "      <td>NaN</td>\n",
       "      <td>14</td>\n",
       "      <td>Justicia\\n</td>\n",
       "      <td>0,742 km²\\n</td>\n",
       "      <td>\\n</td>\n",
       "    </tr>\n",
       "    <tr>\n",
       "      <th>4</th>\n",
       "      <td>NaN</td>\n",
       "      <td>15</td>\n",
       "      <td>Universidad\\n</td>\n",
       "      <td>0,947 km²\\n</td>\n",
       "      <td>\\n</td>\n",
       "    </tr>\n",
       "  </tbody>\n",
       "</table>\n",
       "</div>"
      ],
      "text/plain": [
       "  Distrito\\n  Número\\n       Nombre\\n Superficie (km²)[2]​\\n Imagen\\n\n",
       "0   Centro\\n        11      Palacio\\n            1,471 km²\\n       \\n\n",
       "1        NaN        12  Embajadores\\n            1,032 km²\\n       \\n\n",
       "2        NaN        13       Cortes\\n            0,592 km²\\n       \\n\n",
       "3        NaN        14     Justicia\\n            0,742 km²\\n       \\n\n",
       "4        NaN        15  Universidad\\n            0,947 km²\\n       \\n"
      ]
     },
     "execution_count": 6,
     "metadata": {},
     "output_type": "execute_result"
    }
   ],
   "source": [
    "neighborhoods_Madrid.head()"
   ]
  },
  {
   "cell_type": "markdown",
   "metadata": {},
   "source": [
    " "
   ]
  },
  {
   "cell_type": "markdown",
   "metadata": {},
   "source": [
    "We can drop the unneeded columns"
   ]
  },
  {
   "cell_type": "code",
   "execution_count": 7,
   "metadata": {},
   "outputs": [
    {
     "data": {
      "text/html": [
       "<div>\n",
       "<style scoped>\n",
       "    .dataframe tbody tr th:only-of-type {\n",
       "        vertical-align: middle;\n",
       "    }\n",
       "\n",
       "    .dataframe tbody tr th {\n",
       "        vertical-align: top;\n",
       "    }\n",
       "\n",
       "    .dataframe thead th {\n",
       "        text-align: right;\n",
       "    }\n",
       "</style>\n",
       "<table border=\"1\" class=\"dataframe\">\n",
       "  <thead>\n",
       "    <tr style=\"text-align: right;\">\n",
       "      <th></th>\n",
       "      <th>Distrito\\n</th>\n",
       "      <th>Nombre\\n</th>\n",
       "    </tr>\n",
       "  </thead>\n",
       "  <tbody>\n",
       "    <tr>\n",
       "      <th>0</th>\n",
       "      <td>Centro\\n</td>\n",
       "      <td>Palacio\\n</td>\n",
       "    </tr>\n",
       "    <tr>\n",
       "      <th>1</th>\n",
       "      <td>NaN</td>\n",
       "      <td>Embajadores\\n</td>\n",
       "    </tr>\n",
       "    <tr>\n",
       "      <th>2</th>\n",
       "      <td>NaN</td>\n",
       "      <td>Cortes\\n</td>\n",
       "    </tr>\n",
       "    <tr>\n",
       "      <th>3</th>\n",
       "      <td>NaN</td>\n",
       "      <td>Justicia\\n</td>\n",
       "    </tr>\n",
       "    <tr>\n",
       "      <th>4</th>\n",
       "      <td>NaN</td>\n",
       "      <td>Universidad\\n</td>\n",
       "    </tr>\n",
       "  </tbody>\n",
       "</table>\n",
       "</div>"
      ],
      "text/plain": [
       "  Distrito\\n       Nombre\\n\n",
       "0   Centro\\n      Palacio\\n\n",
       "1        NaN  Embajadores\\n\n",
       "2        NaN       Cortes\\n\n",
       "3        NaN     Justicia\\n\n",
       "4        NaN  Universidad\\n"
      ]
     },
     "execution_count": 7,
     "metadata": {},
     "output_type": "execute_result"
    }
   ],
   "source": [
    "del neighborhoods_Madrid['Número\\n']\n",
    "del neighborhoods_Madrid['Superficie (km²)[2]​\\n']\n",
    "del neighborhoods_Madrid['Imagen\\n']\n",
    "neighborhoods_Madrid.head()"
   ]
  },
  {
   "cell_type": "code",
   "execution_count": 8,
   "metadata": {},
   "outputs": [],
   "source": [
    "neighborhoods_Madrid2 = neighborhoods_Madrid"
   ]
  },
  {
   "cell_type": "markdown",
   "metadata": {},
   "source": [
    "We change the columns names:"
   ]
  },
  {
   "cell_type": "code",
   "execution_count": 13,
   "metadata": {},
   "outputs": [],
   "source": [
    "neighborhoods_Madrid = neighborhoods_Madrid.rename(columns={'Distrito\\n':'Borough', 'Nombre\\n':'Neighborhood'}, \n",
    "                 inplace=True)"
   ]
  },
  {
   "cell_type": "code",
   "execution_count": 15,
   "metadata": {},
   "outputs": [
    {
     "data": {
      "text/html": [
       "<div>\n",
       "<style scoped>\n",
       "    .dataframe tbody tr th:only-of-type {\n",
       "        vertical-align: middle;\n",
       "    }\n",
       "\n",
       "    .dataframe tbody tr th {\n",
       "        vertical-align: top;\n",
       "    }\n",
       "\n",
       "    .dataframe thead th {\n",
       "        text-align: right;\n",
       "    }\n",
       "</style>\n",
       "<table border=\"1\" class=\"dataframe\">\n",
       "  <thead>\n",
       "    <tr style=\"text-align: right;\">\n",
       "      <th></th>\n",
       "      <th>Borough</th>\n",
       "      <th>Neighborhood</th>\n",
       "    </tr>\n",
       "  </thead>\n",
       "  <tbody>\n",
       "    <tr>\n",
       "      <th>0</th>\n",
       "      <td>Centro\\n</td>\n",
       "      <td>Palacio\\n</td>\n",
       "    </tr>\n",
       "    <tr>\n",
       "      <th>1</th>\n",
       "      <td>NaN</td>\n",
       "      <td>Embajadores\\n</td>\n",
       "    </tr>\n",
       "    <tr>\n",
       "      <th>2</th>\n",
       "      <td>NaN</td>\n",
       "      <td>Cortes\\n</td>\n",
       "    </tr>\n",
       "    <tr>\n",
       "      <th>3</th>\n",
       "      <td>NaN</td>\n",
       "      <td>Justicia\\n</td>\n",
       "    </tr>\n",
       "    <tr>\n",
       "      <th>4</th>\n",
       "      <td>NaN</td>\n",
       "      <td>Universidad\\n</td>\n",
       "    </tr>\n",
       "  </tbody>\n",
       "</table>\n",
       "</div>"
      ],
      "text/plain": [
       "    Borough   Neighborhood\n",
       "0  Centro\\n      Palacio\\n\n",
       "1       NaN  Embajadores\\n\n",
       "2       NaN       Cortes\\n\n",
       "3       NaN     Justicia\\n\n",
       "4       NaN  Universidad\\n"
      ]
     },
     "execution_count": 15,
     "metadata": {},
     "output_type": "execute_result"
    }
   ],
   "source": [
    "neighborhoods_Madrid.head()"
   ]
  },
  {
   "cell_type": "markdown",
   "metadata": {},
   "source": [
    "We need to remove the \"\\n\":"
   ]
  },
  {
   "cell_type": "code",
   "execution_count": 16,
   "metadata": {},
   "outputs": [
    {
     "data": {
      "text/html": [
       "<div>\n",
       "<style scoped>\n",
       "    .dataframe tbody tr th:only-of-type {\n",
       "        vertical-align: middle;\n",
       "    }\n",
       "\n",
       "    .dataframe tbody tr th {\n",
       "        vertical-align: top;\n",
       "    }\n",
       "\n",
       "    .dataframe thead th {\n",
       "        text-align: right;\n",
       "    }\n",
       "</style>\n",
       "<table border=\"1\" class=\"dataframe\">\n",
       "  <thead>\n",
       "    <tr style=\"text-align: right;\">\n",
       "      <th></th>\n",
       "      <th>Borough</th>\n",
       "      <th>Neighborhood</th>\n",
       "    </tr>\n",
       "  </thead>\n",
       "  <tbody>\n",
       "    <tr>\n",
       "      <th>0</th>\n",
       "      <td>Centro</td>\n",
       "      <td>Palacio</td>\n",
       "    </tr>\n",
       "    <tr>\n",
       "      <th>1</th>\n",
       "      <td>NaN</td>\n",
       "      <td>Embajadores</td>\n",
       "    </tr>\n",
       "    <tr>\n",
       "      <th>2</th>\n",
       "      <td>NaN</td>\n",
       "      <td>Cortes</td>\n",
       "    </tr>\n",
       "    <tr>\n",
       "      <th>3</th>\n",
       "      <td>NaN</td>\n",
       "      <td>Justicia</td>\n",
       "    </tr>\n",
       "    <tr>\n",
       "      <th>4</th>\n",
       "      <td>NaN</td>\n",
       "      <td>Universidad</td>\n",
       "    </tr>\n",
       "  </tbody>\n",
       "</table>\n",
       "</div>"
      ],
      "text/plain": [
       "  Borough Neighborhood\n",
       "0  Centro      Palacio\n",
       "1     NaN  Embajadores\n",
       "2     NaN       Cortes\n",
       "3     NaN     Justicia\n",
       "4     NaN  Universidad"
      ]
     },
     "execution_count": 16,
     "metadata": {},
     "output_type": "execute_result"
    }
   ],
   "source": [
    "neighborhoods_Madrid = neighborhoods_Madrid.replace(to_replace=[r\"\\\\t|\\\\n|\\\\r\", \"\\t|\\n|\\r\"], value=[\"\",\"\"], regex=True, inplace=False)\n",
    "neighborhoods_Madrid.head()"
   ]
  },
  {
   "cell_type": "markdown",
   "metadata": {},
   "source": [
    "On the Wikipedia page Boroughs were merged cells, that is why we have NaN values on Borough column. We should replace these values with the Borough above it. "
   ]
  },
  {
   "cell_type": "code",
   "execution_count": 17,
   "metadata": {},
   "outputs": [],
   "source": [
    "neighborhoods_Madrid3 = neighborhoods_Madrid"
   ]
  },
  {
   "cell_type": "code",
   "execution_count": 18,
   "metadata": {},
   "outputs": [
    {
     "data": {
      "text/html": [
       "<div>\n",
       "<style scoped>\n",
       "    .dataframe tbody tr th:only-of-type {\n",
       "        vertical-align: middle;\n",
       "    }\n",
       "\n",
       "    .dataframe tbody tr th {\n",
       "        vertical-align: top;\n",
       "    }\n",
       "\n",
       "    .dataframe thead th {\n",
       "        text-align: right;\n",
       "    }\n",
       "</style>\n",
       "<table border=\"1\" class=\"dataframe\">\n",
       "  <thead>\n",
       "    <tr style=\"text-align: right;\">\n",
       "      <th></th>\n",
       "      <th>Borough</th>\n",
       "      <th>Neighborhood</th>\n",
       "    </tr>\n",
       "  </thead>\n",
       "  <tbody>\n",
       "    <tr>\n",
       "      <th>0</th>\n",
       "      <td>Centro</td>\n",
       "      <td>Palacio</td>\n",
       "    </tr>\n",
       "    <tr>\n",
       "      <th>1</th>\n",
       "      <td>Centro</td>\n",
       "      <td>Embajadores</td>\n",
       "    </tr>\n",
       "    <tr>\n",
       "      <th>2</th>\n",
       "      <td>Centro</td>\n",
       "      <td>Cortes</td>\n",
       "    </tr>\n",
       "    <tr>\n",
       "      <th>3</th>\n",
       "      <td>Centro</td>\n",
       "      <td>Justicia</td>\n",
       "    </tr>\n",
       "    <tr>\n",
       "      <th>4</th>\n",
       "      <td>Centro</td>\n",
       "      <td>Universidad</td>\n",
       "    </tr>\n",
       "  </tbody>\n",
       "</table>\n",
       "</div>"
      ],
      "text/plain": [
       "  Borough Neighborhood\n",
       "0  Centro      Palacio\n",
       "1  Centro  Embajadores\n",
       "2  Centro       Cortes\n",
       "3  Centro     Justicia\n",
       "4  Centro  Universidad"
      ]
     },
     "execution_count": 18,
     "metadata": {},
     "output_type": "execute_result"
    }
   ],
   "source": [
    "neighborhoods_Madrid3 = neighborhoods_Madrid3.fillna(method='ffill')\n",
    "neighborhoods_Madrid3.head()"
   ]
  },
  {
   "cell_type": "code",
   "execution_count": 19,
   "metadata": {},
   "outputs": [
    {
     "data": {
      "text/html": [
       "<div>\n",
       "<style scoped>\n",
       "    .dataframe tbody tr th:only-of-type {\n",
       "        vertical-align: middle;\n",
       "    }\n",
       "\n",
       "    .dataframe tbody tr th {\n",
       "        vertical-align: top;\n",
       "    }\n",
       "\n",
       "    .dataframe thead th {\n",
       "        text-align: right;\n",
       "    }\n",
       "</style>\n",
       "<table border=\"1\" class=\"dataframe\">\n",
       "  <thead>\n",
       "    <tr style=\"text-align: right;\">\n",
       "      <th></th>\n",
       "      <th>Borough</th>\n",
       "      <th>Neighborhood</th>\n",
       "    </tr>\n",
       "  </thead>\n",
       "  <tbody>\n",
       "    <tr>\n",
       "      <th>126</th>\n",
       "      <td>Barajas</td>\n",
       "      <td>Alameda de Osuna</td>\n",
       "    </tr>\n",
       "    <tr>\n",
       "      <th>127</th>\n",
       "      <td>Barajas</td>\n",
       "      <td>Aeropuerto</td>\n",
       "    </tr>\n",
       "    <tr>\n",
       "      <th>128</th>\n",
       "      <td>Barajas</td>\n",
       "      <td>Casco Histórico de Barajas</td>\n",
       "    </tr>\n",
       "    <tr>\n",
       "      <th>129</th>\n",
       "      <td>Barajas</td>\n",
       "      <td>Timón</td>\n",
       "    </tr>\n",
       "    <tr>\n",
       "      <th>130</th>\n",
       "      <td>Barajas</td>\n",
       "      <td>Corralejos</td>\n",
       "    </tr>\n",
       "  </tbody>\n",
       "</table>\n",
       "</div>"
      ],
      "text/plain": [
       "     Borough                Neighborhood\n",
       "126  Barajas            Alameda de Osuna\n",
       "127  Barajas                  Aeropuerto\n",
       "128  Barajas  Casco Histórico de Barajas\n",
       "129  Barajas                       Timón\n",
       "130  Barajas                  Corralejos"
      ]
     },
     "execution_count": 19,
     "metadata": {},
     "output_type": "execute_result"
    }
   ],
   "source": [
    "neighborhoods_Madrid3.tail()"
   ]
  },
  {
   "cell_type": "markdown",
   "metadata": {},
   "source": [
    "Finally, we save this data to a CSV file."
   ]
  },
  {
   "cell_type": "code",
   "execution_count": 12,
   "metadata": {},
   "outputs": [
    {
     "ename": "NameError",
     "evalue": "name 'neighborhoods_Madrid3' is not defined",
     "output_type": "error",
     "traceback": [
      "\u001b[0;31m---------------------------------------------------------------------------\u001b[0m",
      "\u001b[0;31mNameError\u001b[0m                                 Traceback (most recent call last)",
      "\u001b[0;32m<ipython-input-12-84b0a109af87>\u001b[0m in \u001b[0;36m<module>\u001b[0;34m\u001b[0m\n\u001b[0;32m----> 1\u001b[0;31m \u001b[0mneighborhoods_Madrid3\u001b[0m\u001b[0;34m.\u001b[0m\u001b[0mto_csv\u001b[0m\u001b[0;34m(\u001b[0m\u001b[0;34m'ssa.csv'\u001b[0m\u001b[0;34m)\u001b[0m\u001b[0;34m\u001b[0m\u001b[0;34m\u001b[0m\u001b[0m\n\u001b[0m",
      "\u001b[0;31mNameError\u001b[0m: name 'neighborhoods_Madrid3' is not defined"
     ]
    }
   ],
   "source": [
    "neighborhoods_Madrid3.to_csv('Madrid_data.csv')"
   ]
  },
  {
   "cell_type": "markdown",
   "metadata": {},
   "source": [
    " "
   ]
  },
  {
   "cell_type": "markdown",
   "metadata": {},
   "source": [
    "### Use geopy library to get the latitude and longitude values of Madrid"
   ]
  },
  {
   "cell_type": "markdown",
   "metadata": {},
   "source": [
    "First, we load Madrid data:"
   ]
  },
  {
   "cell_type": "code",
   "execution_count": 15,
   "metadata": {},
   "outputs": [],
   "source": [
    "neighborhoods_Madrid3=pd.read_csv('Madrid_data.csv') "
   ]
  },
  {
   "cell_type": "code",
   "execution_count": 16,
   "metadata": {},
   "outputs": [
    {
     "name": "stdout",
     "output_type": "stream",
     "text": [
      "Madrid has 21 boroughs and 131 neighborhoods.\n"
     ]
    }
   ],
   "source": [
    "print('Madrid has {} boroughs and {} neighborhoods.'.format(\n",
    "        len(neighborhoods_Madrid3['Borough'].unique()),\n",
    "        neighborhoods_Madrid3.shape[0]\n",
    "    )\n",
    ")"
   ]
  },
  {
   "cell_type": "markdown",
   "metadata": {},
   "source": [
    "We install the needed libraries"
   ]
  },
  {
   "cell_type": "code",
   "execution_count": 22,
   "metadata": {},
   "outputs": [
    {
     "name": "stdout",
     "output_type": "stream",
     "text": [
      "Collecting geocoder\n",
      "\u001b[?25l  Downloading https://files.pythonhosted.org/packages/4f/6b/13166c909ad2f2d76b929a4227c952630ebaf0d729f6317eb09cbceccbab/geocoder-1.38.1-py2.py3-none-any.whl (98kB)\n",
      "\u001b[K     |████████████████████████████████| 102kB 6.0MB/s ta 0:00:011\n",
      "\u001b[?25hCollecting click (from geocoder)\n",
      "\u001b[?25l  Downloading https://files.pythonhosted.org/packages/d2/3d/fa76db83bf75c4f8d338c2fd15c8d33fdd7ad23a9b5e57eb6c5de26b430e/click-7.1.2-py2.py3-none-any.whl (82kB)\n",
      "\u001b[K     |████████████████████████████████| 92kB 4.9MB/s eta 0:00:011\n",
      "\u001b[?25hRequirement already satisfied: requests in /home/jupyterlab/conda/envs/python/lib/python3.6/site-packages (from geocoder) (2.23.0)\n",
      "Collecting ratelim (from geocoder)\n",
      "  Downloading https://files.pythonhosted.org/packages/f2/98/7e6d147fd16a10a5f821db6e25f192265d6ecca3d82957a4fdd592cad49c/ratelim-0.1.6-py2.py3-none-any.whl\n",
      "Collecting future (from geocoder)\n",
      "\u001b[?25l  Downloading https://files.pythonhosted.org/packages/45/0b/38b06fd9b92dc2b68d58b75f900e97884c45bedd2ff83203d933cf5851c9/future-0.18.2.tar.gz (829kB)\n",
      "\u001b[K     |████████████████████████████████| 829kB 15.5MB/s eta 0:00:01\n",
      "\u001b[?25hRequirement already satisfied: six in /home/jupyterlab/conda/envs/python/lib/python3.6/site-packages (from geocoder) (1.14.0)\n",
      "Requirement already satisfied: certifi>=2017.4.17 in /home/jupyterlab/conda/envs/python/lib/python3.6/site-packages (from requests->geocoder) (2020.4.5.1)\n",
      "Requirement already satisfied: chardet<4,>=3.0.2 in /home/jupyterlab/conda/envs/python/lib/python3.6/site-packages (from requests->geocoder) (3.0.4)\n",
      "Requirement already satisfied: urllib3!=1.25.0,!=1.25.1,<1.26,>=1.21.1 in /home/jupyterlab/conda/envs/python/lib/python3.6/site-packages (from requests->geocoder) (1.25.9)\n",
      "Requirement already satisfied: idna<3,>=2.5 in /home/jupyterlab/conda/envs/python/lib/python3.6/site-packages (from requests->geocoder) (2.9)\n",
      "Requirement already satisfied: decorator in /home/jupyterlab/conda/envs/python/lib/python3.6/site-packages (from ratelim->geocoder) (4.4.2)\n",
      "Building wheels for collected packages: future\n",
      "  Building wheel for future (setup.py) ... \u001b[?25ldone\n",
      "\u001b[?25h  Stored in directory: /home/jupyterlab/.cache/pip/wheels/8b/99/a0/81daf51dcd359a9377b110a8a886b3895921802d2fc1b2397e\n",
      "Successfully built future\n",
      "Installing collected packages: click, ratelim, future, geocoder\n",
      "Successfully installed click-7.1.2 future-0.18.2 geocoder-1.38.1 ratelim-0.1.6\n"
     ]
    }
   ],
   "source": [
    "!pip install geocoder"
   ]
  },
  {
   "cell_type": "code",
   "execution_count": 25,
   "metadata": {},
   "outputs": [
    {
     "name": "stdout",
     "output_type": "stream",
     "text": [
      "Requirement already satisfied: geocoder in /home/jupyterlab/conda/envs/python/lib/python3.6/site-packages (1.38.1)\n",
      "Requirement already satisfied: click in /home/jupyterlab/conda/envs/python/lib/python3.6/site-packages (from geocoder) (7.1.2)\n",
      "Requirement already satisfied: requests in /home/jupyterlab/conda/envs/python/lib/python3.6/site-packages (from geocoder) (2.23.0)\n",
      "Requirement already satisfied: ratelim in /home/jupyterlab/conda/envs/python/lib/python3.6/site-packages (from geocoder) (0.1.6)\n",
      "Requirement already satisfied: six in /home/jupyterlab/conda/envs/python/lib/python3.6/site-packages (from geocoder) (1.14.0)\n",
      "Requirement already satisfied: future in /home/jupyterlab/conda/envs/python/lib/python3.6/site-packages (from geocoder) (0.18.2)\n",
      "Requirement already satisfied: certifi>=2017.4.17 in /home/jupyterlab/conda/envs/python/lib/python3.6/site-packages (from requests->geocoder) (2020.4.5.1)\n",
      "Requirement already satisfied: chardet<4,>=3.0.2 in /home/jupyterlab/conda/envs/python/lib/python3.6/site-packages (from requests->geocoder) (3.0.4)\n",
      "Requirement already satisfied: urllib3!=1.25.0,!=1.25.1,<1.26,>=1.21.1 in /home/jupyterlab/conda/envs/python/lib/python3.6/site-packages (from requests->geocoder) (1.25.9)\n",
      "Requirement already satisfied: idna<3,>=2.5 in /home/jupyterlab/conda/envs/python/lib/python3.6/site-packages (from requests->geocoder) (2.9)\n",
      "Requirement already satisfied: decorator in /home/jupyterlab/conda/envs/python/lib/python3.6/site-packages (from ratelim->geocoder) (4.4.2)\n",
      "Note: you may need to restart the kernel to use updated packages.\n"
     ]
    }
   ],
   "source": [
    "pip install geocoder"
   ]
  },
  {
   "cell_type": "code",
   "execution_count": 2,
   "metadata": {},
   "outputs": [
    {
     "name": "stdout",
     "output_type": "stream",
     "text": [
      "Collecting package metadata (current_repodata.json): done\n",
      "Solving environment: done\n",
      "\n",
      "## Package Plan ##\n",
      "\n",
      "  environment location: /home/jupyterlab/conda/envs/python\n",
      "\n",
      "  added / updated specs:\n",
      "    - geopy\n",
      "\n",
      "\n",
      "The following packages will be downloaded:\n",
      "\n",
      "    package                    |            build\n",
      "    ---------------------------|-----------------\n",
      "    geographiclib-1.50         |             py_0          34 KB  conda-forge\n",
      "    geopy-1.21.0               |             py_0          58 KB  conda-forge\n",
      "    ------------------------------------------------------------\n",
      "                                           Total:          92 KB\n",
      "\n",
      "The following NEW packages will be INSTALLED:\n",
      "\n",
      "  geographiclib      conda-forge/noarch::geographiclib-1.50-py_0\n",
      "  geopy              conda-forge/noarch::geopy-1.21.0-py_0\n",
      "\n",
      "\n",
      "\n",
      "Downloading and Extracting Packages\n",
      "geopy-1.21.0         | 58 KB     | ##################################### | 100% \n",
      "geographiclib-1.50   | 34 KB     | ##################################### | 100% \n",
      "Preparing transaction: done\n",
      "Verifying transaction: done\n",
      "Executing transaction: done\n"
     ]
    }
   ],
   "source": [
    "!conda install -c conda-forge geopy --yes "
   ]
  },
  {
   "cell_type": "code",
   "execution_count": 3,
   "metadata": {},
   "outputs": [],
   "source": [
    "from geopy.geocoders import Nominatim # convert an address into latitude and longitude values"
   ]
  },
  {
   "cell_type": "markdown",
   "metadata": {},
   "source": [
    "Let's find out Madrid's latitude and longitude:"
   ]
  },
  {
   "cell_type": "code",
   "execution_count": 4,
   "metadata": {},
   "outputs": [
    {
     "name": "stdout",
     "output_type": "stream",
     "text": [
      "The geograpical coordinate of Madrid are 40.4167047, -3.7035825.\n"
     ]
    }
   ],
   "source": [
    "address = 'Madrid'\n",
    "\n",
    "geolocator = Nominatim(user_agent=\"madrid_explorer\")\n",
    "location = geolocator.geocode(address)\n",
    "latitude = location.latitude\n",
    "longitude = location.longitude\n",
    "print('The geograpical coordinate of Madrid are {}, {}.'.format(latitude, longitude))"
   ]
  },
  {
   "cell_type": "markdown",
   "metadata": {},
   "source": [
    "Let's check if we can get the latitude and longitude of a Neighborhood."
   ]
  },
  {
   "cell_type": "code",
   "execution_count": 5,
   "metadata": {},
   "outputs": [
    {
     "name": "stdout",
     "output_type": "stream",
     "text": [
      "The geograpical coordinate of Madrid Centro are 40.417652700000005, -3.7079137662915533.\n"
     ]
    }
   ],
   "source": [
    "address = 'Centro, Madrid'\n",
    "\n",
    "\n",
    "location = geolocator.geocode(address)\n",
    "latitude = location.latitude\n",
    "longitude = location.longitude\n",
    "print('The geograpical coordinate of Madrid Centro are {}, {}.'.format(latitude, longitude))"
   ]
  },
  {
   "cell_type": "code",
   "execution_count": 7,
   "metadata": {},
   "outputs": [],
   "source": [
    "import geocoder"
   ]
  },
  {
   "cell_type": "markdown",
   "metadata": {},
   "source": [
    "We create a function to insist on getting the coordinates until the value is obtained."
   ]
  },
  {
   "cell_type": "code",
   "execution_count": 8,
   "metadata": {},
   "outputs": [
    {
     "data": {
      "text/plain": [
       "[40.465400000000045, -3.6116399999999658]"
      ]
     },
     "execution_count": 8,
     "metadata": {},
     "output_type": "execute_result"
    }
   ],
   "source": [
    "def get_latlng(address):\n",
    "    # initialize your variable to None\n",
    "    lat_lng_coords = None\n",
    "    # loop until you get the coordinates\n",
    "    while(lat_lng_coords is None):\n",
    "        g = geocoder.arcgis('{}, Madrid, Spain'.format(address))\n",
    "        lat_lng_coords = g.latlng\n",
    "    return lat_lng_coords\n",
    "get_latlng('Corralejos, Barajas, Madrid')"
   ]
  },
  {
   "cell_type": "markdown",
   "metadata": {},
   "source": [
    "As seen above, we can get the coordinates of each neighborhood with the address. So we are going to add a column with the address by concatenating Borough and Neighborhood columns and adding \"Madrid\"."
   ]
  },
  {
   "cell_type": "code",
   "execution_count": 21,
   "metadata": {},
   "outputs": [
    {
     "data": {
      "text/html": [
       "<div>\n",
       "<style scoped>\n",
       "    .dataframe tbody tr th:only-of-type {\n",
       "        vertical-align: middle;\n",
       "    }\n",
       "\n",
       "    .dataframe tbody tr th {\n",
       "        vertical-align: top;\n",
       "    }\n",
       "\n",
       "    .dataframe thead th {\n",
       "        text-align: right;\n",
       "    }\n",
       "</style>\n",
       "<table border=\"1\" class=\"dataframe\">\n",
       "  <thead>\n",
       "    <tr style=\"text-align: right;\">\n",
       "      <th></th>\n",
       "      <th>Unnamed: 0</th>\n",
       "      <th>Borough</th>\n",
       "      <th>Neighborhood</th>\n",
       "      <th>Address</th>\n",
       "    </tr>\n",
       "  </thead>\n",
       "  <tbody>\n",
       "    <tr>\n",
       "      <th>0</th>\n",
       "      <td>0</td>\n",
       "      <td>Centro</td>\n",
       "      <td>Palacio</td>\n",
       "      <td>Palacio, Centro</td>\n",
       "    </tr>\n",
       "    <tr>\n",
       "      <th>1</th>\n",
       "      <td>1</td>\n",
       "      <td>Centro</td>\n",
       "      <td>Embajadores</td>\n",
       "      <td>Embajadores, Centro</td>\n",
       "    </tr>\n",
       "    <tr>\n",
       "      <th>2</th>\n",
       "      <td>2</td>\n",
       "      <td>Centro</td>\n",
       "      <td>Cortes</td>\n",
       "      <td>Cortes, Centro</td>\n",
       "    </tr>\n",
       "    <tr>\n",
       "      <th>3</th>\n",
       "      <td>3</td>\n",
       "      <td>Centro</td>\n",
       "      <td>Justicia</td>\n",
       "      <td>Justicia, Centro</td>\n",
       "    </tr>\n",
       "    <tr>\n",
       "      <th>4</th>\n",
       "      <td>4</td>\n",
       "      <td>Centro</td>\n",
       "      <td>Universidad</td>\n",
       "      <td>Universidad, Centro</td>\n",
       "    </tr>\n",
       "  </tbody>\n",
       "</table>\n",
       "</div>"
      ],
      "text/plain": [
       "   Unnamed: 0 Borough Neighborhood              Address\n",
       "0           0  Centro      Palacio      Palacio, Centro\n",
       "1           1  Centro  Embajadores  Embajadores, Centro\n",
       "2           2  Centro       Cortes       Cortes, Centro\n",
       "3           3  Centro     Justicia     Justicia, Centro\n",
       "4           4  Centro  Universidad  Universidad, Centro"
      ]
     },
     "execution_count": 21,
     "metadata": {},
     "output_type": "execute_result"
    }
   ],
   "source": [
    "# making copy of team column \n",
    "new = neighborhoods_Madrid3[\"Borough\"].copy() \n",
    "  \n",
    "# concatenating in a new column \n",
    "neighborhoods_Madrid3[\"Address\"]= neighborhoods_Madrid3[\"Neighborhood\"].str.cat(new, sep =\", \") \n",
    "neighborhoods_Madrid3.head()"
   ]
  },
  {
   "cell_type": "code",
   "execution_count": 22,
   "metadata": {},
   "outputs": [],
   "source": [
    "neighborhoods_Madrid3[\"Address\"]=neighborhoods_Madrid3[\"Address\"] + \", Madrid\""
   ]
  },
  {
   "cell_type": "code",
   "execution_count": 23,
   "metadata": {},
   "outputs": [
    {
     "data": {
      "text/html": [
       "<div>\n",
       "<style scoped>\n",
       "    .dataframe tbody tr th:only-of-type {\n",
       "        vertical-align: middle;\n",
       "    }\n",
       "\n",
       "    .dataframe tbody tr th {\n",
       "        vertical-align: top;\n",
       "    }\n",
       "\n",
       "    .dataframe thead th {\n",
       "        text-align: right;\n",
       "    }\n",
       "</style>\n",
       "<table border=\"1\" class=\"dataframe\">\n",
       "  <thead>\n",
       "    <tr style=\"text-align: right;\">\n",
       "      <th></th>\n",
       "      <th>Unnamed: 0</th>\n",
       "      <th>Borough</th>\n",
       "      <th>Neighborhood</th>\n",
       "      <th>Address</th>\n",
       "    </tr>\n",
       "  </thead>\n",
       "  <tbody>\n",
       "    <tr>\n",
       "      <th>0</th>\n",
       "      <td>0</td>\n",
       "      <td>Centro</td>\n",
       "      <td>Palacio</td>\n",
       "      <td>Palacio, Centro, Madrid</td>\n",
       "    </tr>\n",
       "    <tr>\n",
       "      <th>1</th>\n",
       "      <td>1</td>\n",
       "      <td>Centro</td>\n",
       "      <td>Embajadores</td>\n",
       "      <td>Embajadores, Centro, Madrid</td>\n",
       "    </tr>\n",
       "    <tr>\n",
       "      <th>2</th>\n",
       "      <td>2</td>\n",
       "      <td>Centro</td>\n",
       "      <td>Cortes</td>\n",
       "      <td>Cortes, Centro, Madrid</td>\n",
       "    </tr>\n",
       "    <tr>\n",
       "      <th>3</th>\n",
       "      <td>3</td>\n",
       "      <td>Centro</td>\n",
       "      <td>Justicia</td>\n",
       "      <td>Justicia, Centro, Madrid</td>\n",
       "    </tr>\n",
       "    <tr>\n",
       "      <th>4</th>\n",
       "      <td>4</td>\n",
       "      <td>Centro</td>\n",
       "      <td>Universidad</td>\n",
       "      <td>Universidad, Centro, Madrid</td>\n",
       "    </tr>\n",
       "  </tbody>\n",
       "</table>\n",
       "</div>"
      ],
      "text/plain": [
       "   Unnamed: 0 Borough Neighborhood                      Address\n",
       "0           0  Centro      Palacio      Palacio, Centro, Madrid\n",
       "1           1  Centro  Embajadores  Embajadores, Centro, Madrid\n",
       "2           2  Centro       Cortes       Cortes, Centro, Madrid\n",
       "3           3  Centro     Justicia     Justicia, Centro, Madrid\n",
       "4           4  Centro  Universidad  Universidad, Centro, Madrid"
      ]
     },
     "execution_count": 23,
     "metadata": {},
     "output_type": "execute_result"
    }
   ],
   "source": [
    "neighborhoods_Madrid3.head()"
   ]
  },
  {
   "cell_type": "markdown",
   "metadata": {},
   "source": [
    "We can drop the first column."
   ]
  },
  {
   "cell_type": "code",
   "execution_count": 24,
   "metadata": {},
   "outputs": [
    {
     "data": {
      "text/html": [
       "<div>\n",
       "<style scoped>\n",
       "    .dataframe tbody tr th:only-of-type {\n",
       "        vertical-align: middle;\n",
       "    }\n",
       "\n",
       "    .dataframe tbody tr th {\n",
       "        vertical-align: top;\n",
       "    }\n",
       "\n",
       "    .dataframe thead th {\n",
       "        text-align: right;\n",
       "    }\n",
       "</style>\n",
       "<table border=\"1\" class=\"dataframe\">\n",
       "  <thead>\n",
       "    <tr style=\"text-align: right;\">\n",
       "      <th></th>\n",
       "      <th>Borough</th>\n",
       "      <th>Neighborhood</th>\n",
       "      <th>Address</th>\n",
       "    </tr>\n",
       "  </thead>\n",
       "  <tbody>\n",
       "    <tr>\n",
       "      <th>0</th>\n",
       "      <td>Centro</td>\n",
       "      <td>Palacio</td>\n",
       "      <td>Palacio, Centro, Madrid</td>\n",
       "    </tr>\n",
       "    <tr>\n",
       "      <th>1</th>\n",
       "      <td>Centro</td>\n",
       "      <td>Embajadores</td>\n",
       "      <td>Embajadores, Centro, Madrid</td>\n",
       "    </tr>\n",
       "    <tr>\n",
       "      <th>2</th>\n",
       "      <td>Centro</td>\n",
       "      <td>Cortes</td>\n",
       "      <td>Cortes, Centro, Madrid</td>\n",
       "    </tr>\n",
       "    <tr>\n",
       "      <th>3</th>\n",
       "      <td>Centro</td>\n",
       "      <td>Justicia</td>\n",
       "      <td>Justicia, Centro, Madrid</td>\n",
       "    </tr>\n",
       "    <tr>\n",
       "      <th>4</th>\n",
       "      <td>Centro</td>\n",
       "      <td>Universidad</td>\n",
       "      <td>Universidad, Centro, Madrid</td>\n",
       "    </tr>\n",
       "  </tbody>\n",
       "</table>\n",
       "</div>"
      ],
      "text/plain": [
       "  Borough Neighborhood                      Address\n",
       "0  Centro      Palacio      Palacio, Centro, Madrid\n",
       "1  Centro  Embajadores  Embajadores, Centro, Madrid\n",
       "2  Centro       Cortes       Cortes, Centro, Madrid\n",
       "3  Centro     Justicia     Justicia, Centro, Madrid\n",
       "4  Centro  Universidad  Universidad, Centro, Madrid"
      ]
     },
     "execution_count": 24,
     "metadata": {},
     "output_type": "execute_result"
    }
   ],
   "source": [
    "del neighborhoods_Madrid3['Unnamed: 0']\n",
    "neighborhoods_Madrid3.head()"
   ]
  },
  {
   "cell_type": "markdown",
   "metadata": {},
   "source": [
    "Let's add in the pandas dataframe 2 new columns for the coordinates:"
   ]
  },
  {
   "cell_type": "code",
   "execution_count": 25,
   "metadata": {},
   "outputs": [
    {
     "data": {
      "text/html": [
       "<div>\n",
       "<style scoped>\n",
       "    .dataframe tbody tr th:only-of-type {\n",
       "        vertical-align: middle;\n",
       "    }\n",
       "\n",
       "    .dataframe tbody tr th {\n",
       "        vertical-align: top;\n",
       "    }\n",
       "\n",
       "    .dataframe thead th {\n",
       "        text-align: right;\n",
       "    }\n",
       "</style>\n",
       "<table border=\"1\" class=\"dataframe\">\n",
       "  <thead>\n",
       "    <tr style=\"text-align: right;\">\n",
       "      <th></th>\n",
       "      <th>Borough</th>\n",
       "      <th>Neighborhood</th>\n",
       "      <th>Address</th>\n",
       "      <th>Latitude</th>\n",
       "      <th>Longitude</th>\n",
       "    </tr>\n",
       "  </thead>\n",
       "  <tbody>\n",
       "    <tr>\n",
       "      <th>0</th>\n",
       "      <td>Centro</td>\n",
       "      <td>Palacio</td>\n",
       "      <td>Palacio, Centro, Madrid</td>\n",
       "      <td></td>\n",
       "      <td></td>\n",
       "    </tr>\n",
       "    <tr>\n",
       "      <th>1</th>\n",
       "      <td>Centro</td>\n",
       "      <td>Embajadores</td>\n",
       "      <td>Embajadores, Centro, Madrid</td>\n",
       "      <td></td>\n",
       "      <td></td>\n",
       "    </tr>\n",
       "    <tr>\n",
       "      <th>2</th>\n",
       "      <td>Centro</td>\n",
       "      <td>Cortes</td>\n",
       "      <td>Cortes, Centro, Madrid</td>\n",
       "      <td></td>\n",
       "      <td></td>\n",
       "    </tr>\n",
       "    <tr>\n",
       "      <th>3</th>\n",
       "      <td>Centro</td>\n",
       "      <td>Justicia</td>\n",
       "      <td>Justicia, Centro, Madrid</td>\n",
       "      <td></td>\n",
       "      <td></td>\n",
       "    </tr>\n",
       "    <tr>\n",
       "      <th>4</th>\n",
       "      <td>Centro</td>\n",
       "      <td>Universidad</td>\n",
       "      <td>Universidad, Centro, Madrid</td>\n",
       "      <td></td>\n",
       "      <td></td>\n",
       "    </tr>\n",
       "  </tbody>\n",
       "</table>\n",
       "</div>"
      ],
      "text/plain": [
       "  Borough Neighborhood                      Address Latitude Longitude\n",
       "0  Centro      Palacio      Palacio, Centro, Madrid                   \n",
       "1  Centro  Embajadores  Embajadores, Centro, Madrid                   \n",
       "2  Centro       Cortes       Cortes, Centro, Madrid                   \n",
       "3  Centro     Justicia     Justicia, Centro, Madrid                   \n",
       "4  Centro  Universidad  Universidad, Centro, Madrid                   "
      ]
     },
     "execution_count": 25,
     "metadata": {},
     "output_type": "execute_result"
    }
   ],
   "source": [
    "neighborhoods_Madrid3[\"Latitude\"] = \"\"\n",
    "neighborhoods_Madrid3[\"Longitude\"] = \"\"\n",
    "neighborhoods_Madrid3.head()"
   ]
  },
  {
   "cell_type": "markdown",
   "metadata": {},
   "source": [
    "We call the defined function for every Address."
   ]
  },
  {
   "cell_type": "code",
   "execution_count": 27,
   "metadata": {},
   "outputs": [],
   "source": [
    "addresses = neighborhoods_Madrid3['Address']    \n",
    "coords = [ get_latlng(address) for address in addresses.tolist() ]"
   ]
  },
  {
   "cell_type": "markdown",
   "metadata": {},
   "source": [
    "We insert latitud and longitude of each neighborhood in the pandas dataframe:"
   ]
  },
  {
   "cell_type": "code",
   "execution_count": 28,
   "metadata": {},
   "outputs": [
    {
     "data": {
      "text/html": [
       "<div>\n",
       "<style scoped>\n",
       "    .dataframe tbody tr th:only-of-type {\n",
       "        vertical-align: middle;\n",
       "    }\n",
       "\n",
       "    .dataframe tbody tr th {\n",
       "        vertical-align: top;\n",
       "    }\n",
       "\n",
       "    .dataframe thead th {\n",
       "        text-align: right;\n",
       "    }\n",
       "</style>\n",
       "<table border=\"1\" class=\"dataframe\">\n",
       "  <thead>\n",
       "    <tr style=\"text-align: right;\">\n",
       "      <th></th>\n",
       "      <th>Borough</th>\n",
       "      <th>Neighborhood</th>\n",
       "      <th>Address</th>\n",
       "      <th>Latitude</th>\n",
       "      <th>Longitude</th>\n",
       "    </tr>\n",
       "  </thead>\n",
       "  <tbody>\n",
       "    <tr>\n",
       "      <th>0</th>\n",
       "      <td>Centro</td>\n",
       "      <td>Palacio</td>\n",
       "      <td>Palacio, Centro, Madrid</td>\n",
       "      <td>40.40963</td>\n",
       "      <td>-3.87979</td>\n",
       "    </tr>\n",
       "    <tr>\n",
       "      <th>1</th>\n",
       "      <td>Centro</td>\n",
       "      <td>Embajadores</td>\n",
       "      <td>Embajadores, Centro, Madrid</td>\n",
       "      <td>40.39107</td>\n",
       "      <td>-3.69273</td>\n",
       "    </tr>\n",
       "    <tr>\n",
       "      <th>2</th>\n",
       "      <td>Centro</td>\n",
       "      <td>Cortes</td>\n",
       "      <td>Cortes, Centro, Madrid</td>\n",
       "      <td>40.41641</td>\n",
       "      <td>-3.69887</td>\n",
       "    </tr>\n",
       "    <tr>\n",
       "      <th>3</th>\n",
       "      <td>Centro</td>\n",
       "      <td>Justicia</td>\n",
       "      <td>Justicia, Centro, Madrid</td>\n",
       "      <td>40.42446</td>\n",
       "      <td>-3.69672</td>\n",
       "    </tr>\n",
       "    <tr>\n",
       "      <th>4</th>\n",
       "      <td>Centro</td>\n",
       "      <td>Universidad</td>\n",
       "      <td>Universidad, Centro, Madrid</td>\n",
       "      <td>40.42565</td>\n",
       "      <td>-3.70726</td>\n",
       "    </tr>\n",
       "  </tbody>\n",
       "</table>\n",
       "</div>"
      ],
      "text/plain": [
       "  Borough Neighborhood                      Address  Latitude  Longitude\n",
       "0  Centro      Palacio      Palacio, Centro, Madrid  40.40963   -3.87979\n",
       "1  Centro  Embajadores  Embajadores, Centro, Madrid  40.39107   -3.69273\n",
       "2  Centro       Cortes       Cortes, Centro, Madrid  40.41641   -3.69887\n",
       "3  Centro     Justicia     Justicia, Centro, Madrid  40.42446   -3.69672\n",
       "4  Centro  Universidad  Universidad, Centro, Madrid  40.42565   -3.70726"
      ]
     },
     "execution_count": 28,
     "metadata": {},
     "output_type": "execute_result"
    }
   ],
   "source": [
    "neighborhoods_Madrid3_coord = pd.DataFrame(coords, columns=['Latitude', 'Longitude'])\n",
    "neighborhoods_Madrid3['Latitude'] = neighborhoods_Madrid3_coord['Latitude']\n",
    "neighborhoods_Madrid3['Longitude'] = neighborhoods_Madrid3_coord['Longitude']\n",
    "neighborhoods_Madrid3.head()"
   ]
  },
  {
   "cell_type": "markdown",
   "metadata": {},
   "source": [
    "We save it in a new CSV file:"
   ]
  },
  {
   "cell_type": "code",
   "execution_count": 29,
   "metadata": {},
   "outputs": [],
   "source": [
    "neighborhoods_Madrid3.to_csv('Madrid_data_coord.csv')"
   ]
  },
  {
   "cell_type": "code",
   "execution_count": null,
   "metadata": {},
   "outputs": [],
   "source": []
  }
 ],
 "metadata": {
  "kernelspec": {
   "display_name": "Python",
   "language": "python",
   "name": "conda-env-python-py"
  },
  "language_info": {
   "codemirror_mode": {
    "name": "ipython",
    "version": 3
   },
   "file_extension": ".py",
   "mimetype": "text/x-python",
   "name": "python",
   "nbconvert_exporter": "python",
   "pygments_lexer": "ipython3",
   "version": "3.6.10"
  }
 },
 "nbformat": 4,
 "nbformat_minor": 4
}
