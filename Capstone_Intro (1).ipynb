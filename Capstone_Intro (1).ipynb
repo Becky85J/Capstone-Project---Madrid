{
 "cells": [
  {
   "cell_type": "markdown",
   "metadata": {},
   "source": [
    "# Introduction/Business Problem"
   ]
  },
  {
   "cell_type": "markdown",
   "metadata": {},
   "source": [
    "When deciding which neighborhood moving to, there are several key aspects. One of course is money/budget. Another one is criminal rate. Another one is communications and last one is finding in that neighborhood what  matters to the person that is moving. We are going to focus on the latest.\n",
    "\n",
    "In this project, we are going use data science and Foursquare to recommend families interested in **moving to Madrid** which neighborhood(s) to choose depending on the venues that are more important to them. That would be schools, daycare centers, parks and groceries. "
   ]
  }
 ],
 "metadata": {
  "kernelspec": {
   "display_name": "Python",
   "language": "python",
   "name": "conda-env-python-py"
  },
  "language_info": {
   "codemirror_mode": {
    "name": "ipython",
    "version": 3
   },
   "file_extension": ".py",
   "mimetype": "text/x-python",
   "name": "python",
   "nbconvert_exporter": "python",
   "pygments_lexer": "ipython3",
   "version": "3.6.10"
  }
 },
 "nbformat": 4,
 "nbformat_minor": 4
}
